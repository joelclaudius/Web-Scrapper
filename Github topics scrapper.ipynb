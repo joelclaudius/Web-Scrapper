{
 "cells": [
  {
   "cell_type": "markdown",
   "id": "69a3fcf2",
   "metadata": {},
   "source": [
    "# TOP REPOSITORIES ON GITHUB TOPICS\n"
   ]
  },
  {
   "cell_type": "markdown",
   "id": "95c8bf02",
   "metadata": {},
   "source": [
    "## Pick a website and describe your objective\n"
   ]
  },
  {
   "cell_type": "markdown",
   "id": "81feee27",
   "metadata": {},
   "source": [
    "-Pick website to scrap.Check project ideas section for inspiration.\n",
    "\n",
    "-Decide which information your are going to scrap.Decide which format of csv output to use.\n",
    "\n",
    "-Summary your project idea and and outline strategy in jupyter.\n",
    "\n"
   ]
  },
  {
   "cell_type": "markdown",
   "id": "1ee3548b",
   "metadata": {},
   "source": [
    "## Project Outline\n"
   ]
  },
  {
   "cell_type": "markdown",
   "id": "0dfbaba9",
   "metadata": {},
   "source": [
    "1.We are going to scrap https://github.com/topics.\n",
    "\n",
    "2.we will get a list of topics.For each topic will get topic title, topic page url and topic description.\n",
    "\n",
    "3.For each topic we will get 25 repositories in the topic from the topic page.\n",
    "\n",
    "4.For each repository we will grab repo name, username, stars and repo url.\n",
    "\n",
    "5.For each topic we will create a CSV file in the format\n",
    "\n",
    "'''\n",
    "Repo Name,Username,Stars,Repo URL\n",
    "'''\n"
   ]
  },
  {
   "cell_type": "markdown",
   "id": "7bb45d78",
   "metadata": {},
   "source": [
    "### Use request library to download web pages"
   ]
  },
  {
   "cell_type": "code",
   "execution_count": 1,
   "id": "5b21a018",
   "metadata": {},
   "outputs": [],
   "source": [
    "!pip install requests --quiet"
   ]
  },
  {
   "cell_type": "code",
   "execution_count": null,
   "id": "00a349dd",
   "metadata": {},
   "outputs": [],
   "source": [
    "import requests\n"
   ]
  },
  {
   "cell_type": "code",
   "execution_count": null,
   "id": "c173e3a5",
   "metadata": {},
   "outputs": [],
   "source": []
  },
  {
   "cell_type": "code",
   "execution_count": null,
   "id": "270af14e",
   "metadata": {},
   "outputs": [],
   "source": [
    "topics_url = 'https://github.com/topics'"
   ]
  },
  {
   "cell_type": "code",
   "execution_count": null,
   "id": "776560c3",
   "metadata": {},
   "outputs": [],
   "source": [
    "response = requests.get('https://github.com/topics')"
   ]
  },
  {
   "cell_type": "code",
   "execution_count": null,
   "id": "88fde047",
   "metadata": {},
   "outputs": [],
   "source": [
    "response.status_code"
   ]
  },
  {
   "cell_type": "code",
   "execution_count": null,
   "id": "936bb338",
   "metadata": {},
   "outputs": [],
   "source": [
    "len(response.text)"
   ]
  },
  {
   "cell_type": "code",
   "execution_count": null,
   "id": "dd77b40b",
   "metadata": {},
   "outputs": [],
   "source": [
    "page_contents = response.text"
   ]
  },
  {
   "cell_type": "code",
   "execution_count": null,
   "id": "183024f3",
   "metadata": {},
   "outputs": [],
   "source": [
    "page_contents"
   ]
  },
  {
   "cell_type": "code",
   "execution_count": null,
   "id": "3d3e725c",
   "metadata": {},
   "outputs": [],
   "source": [
    "f=open('wbb.html', 'x')\n",
    "f.close()"
   ]
  },
  {
   "cell_type": "code",
   "execution_count": null,
   "id": "b39bba7a",
   "metadata": {},
   "outputs": [],
   "source": [
    "f = open('wbb.html', 'r')\n",
    "f.read()\n",
    "f.close()"
   ]
  },
  {
   "cell_type": "code",
   "execution_count": null,
   "id": "39df0913",
   "metadata": {},
   "outputs": [],
   "source": [
    "f = open('wbb.html', 'w')\n",
    "f.write(response.text)\n",
    "f.close()"
   ]
  },
  {
   "cell_type": "code",
   "execution_count": null,
   "id": "db12881c",
   "metadata": {
    "slideshow": {
     "slide_type": "subslide"
    }
   },
   "outputs": [],
   "source": [
    "with open('webpage.html', 'w') as f:\n",
    "    f.write(page_contents)"
   ]
  },
  {
   "cell_type": "markdown",
   "id": "a3472467",
   "metadata": {},
   "source": [
    "### Use BeautifulSoup to parse and extract information"
   ]
  },
  {
   "cell_type": "code",
   "execution_count": null,
   "id": "3a6ef805",
   "metadata": {},
   "outputs": [],
   "source": [
    "!pip install beautifulsoup4"
   ]
  },
  {
   "cell_type": "code",
   "execution_count": null,
   "id": "e4995513",
   "metadata": {},
   "outputs": [],
   "source": [
    "from bs4 import BeautifulSoup\n",
    "doc = BeautifulSoup(page_contents, 'html.parser')\n",
    "type(doc)"
   ]
  },
  {
   "cell_type": "code",
   "execution_count": null,
   "id": "aab7cc94",
   "metadata": {},
   "outputs": [],
   "source": [
    "!pip install lxml"
   ]
  },
  {
   "cell_type": "code",
   "execution_count": null,
   "id": "a8602678",
   "metadata": {},
   "outputs": [],
   "source": [
    "topic_title_tags = doc.find_all('p', class_ = 'f3 lh-condensed mb-0 mt-1 Link--primary')\n",
    "topic_desc_tags = doc.find_all('p', class_ = 'f5 color-fg-muted mb-0 mt-1')"
   ]
  },
  {
   "cell_type": "code",
   "execution_count": null,
   "id": "8a61cd22",
   "metadata": {},
   "outputs": [],
   "source": []
  },
  {
   "cell_type": "code",
   "execution_count": null,
   "id": "2ef670b9",
   "metadata": {},
   "outputs": [],
   "source": [
    "len(topic_title_tags)"
   ]
  },
  {
   "cell_type": "code",
   "execution_count": null,
   "id": "7237387e",
   "metadata": {},
   "outputs": [],
   "source": [
    "len(topic_desc_tags)"
   ]
  },
  {
   "cell_type": "code",
   "execution_count": null,
   "id": "f5fa640d",
   "metadata": {},
   "outputs": [],
   "source": [
    "topic_desc_tags[:5]"
   ]
  },
  {
   "cell_type": "code",
   "execution_count": null,
   "id": "432a247a",
   "metadata": {},
   "outputs": [],
   "source": [
    "repo_url = doc.find_all('a', class_ = 'no-underline flex-1 d-flex flex-column')\n",
    "topic_url0 =\"https://github.com\" + repo_url[0]['href']\n",
    "topic_url0\n"
   ]
  },
  {
   "cell_type": "code",
   "execution_count": null,
   "id": "d2193387",
   "metadata": {},
   "outputs": [],
   "source": [
    "topic_titles = [ ]\n",
    "\n",
    "for tag in topic_title_tags :\n",
    "    topic_titles.append(tag.text)\n",
    "    \n",
    "print(topic_titles)"
   ]
  },
  {
   "cell_type": "code",
   "execution_count": null,
   "id": "2d7c8d49",
   "metadata": {},
   "outputs": [],
   "source": [
    "topic_desc = [ ]\n",
    "\n",
    "for tag in topic_desc_tags :\n",
    "    topic_desc.append(tag.text.strip())\n",
    "    \n",
    "print(topic_desc)"
   ]
  },
  {
   "cell_type": "code",
   "execution_count": null,
   "id": "6621b67d",
   "metadata": {},
   "outputs": [],
   "source": [
    "topic_urls = []\n",
    "base = 'https://github.com'\n",
    "\n",
    "for tags in repo_url:\n",
    "    topic_urls.append(base + tags['href'])\n",
    "    \n",
    "print(topic_urls)"
   ]
  },
  {
   "cell_type": "code",
   "execution_count": null,
   "id": "8da250e2",
   "metadata": {},
   "outputs": [],
   "source": [
    "topic_dict"
   ]
  },
  {
   "cell_type": "code",
   "execution_count": null,
   "id": "6c1b381f",
   "metadata": {},
   "outputs": [],
   "source": [
    "!pip install pandas --quiet\n",
    "\n",
    "import pandas as pd\n",
    "\n",
    "\n"
   ]
  },
  {
   "cell_type": "code",
   "execution_count": null,
   "id": "1c7b2a2f",
   "metadata": {},
   "outputs": [],
   "source": [
    "topic_dict = {\n",
    "    'title' : topic_titles,\n",
    "    'description' : topic_desc,\n",
    "    'url' : topic_urls\n",
    "}"
   ]
  },
  {
   "cell_type": "code",
   "execution_count": null,
   "id": "b2fccf78",
   "metadata": {},
   "outputs": [],
   "source": [
    "topics_df = pd.DataFrame(topic_dict, index = None)"
   ]
  },
  {
   "cell_type": "code",
   "execution_count": null,
   "id": "3571bca9",
   "metadata": {},
   "outputs": [],
   "source": [
    "topics_df"
   ]
  },
  {
   "cell_type": "markdown",
   "id": "b4c8584b",
   "metadata": {},
   "source": [
    "### Create csv file with extracted information"
   ]
  },
  {
   "cell_type": "code",
   "execution_count": null,
   "id": "2b6c68f1",
   "metadata": {},
   "outputs": [],
   "source": [
    "topics_df .to_csv('topics.csv', index = None)"
   ]
  },
  {
   "cell_type": "markdown",
   "id": "b86e51d1",
   "metadata": {},
   "source": [
    "### Getting information out a topic page"
   ]
  },
  {
   "cell_type": "code",
   "execution_count": null,
   "id": "757a56ae",
   "metadata": {},
   "outputs": [],
   "source": [
    "topic_page_url = topic_urls[0]\n"
   ]
  },
  {
   "cell_type": "code",
   "execution_count": null,
   "id": "b233ed4d",
   "metadata": {},
   "outputs": [],
   "source": [
    "reponse = requests.get(topic_page_url)\n",
    "reponse.status_code"
   ]
  },
  {
   "cell_type": "code",
   "execution_count": null,
   "id": "1a749128",
   "metadata": {},
   "outputs": [],
   "source": [
    "len(response.text)"
   ]
  },
  {
   "cell_type": "code",
   "execution_count": null,
   "id": "545c31f2",
   "metadata": {},
   "outputs": [],
   "source": [
    "topic_doc = BeautifulSoup(reponse.text, 'html.parser')"
   ]
  },
  {
   "cell_type": "code",
   "execution_count": null,
   "id": "919303b0",
   "metadata": {},
   "outputs": [],
   "source": [
    "repo_tags = topic_doc.find_all('h3', class_='f3 color-fg-muted text-normal lh-condensed')"
   ]
  },
  {
   "cell_type": "code",
   "execution_count": null,
   "id": "26c53719",
   "metadata": {},
   "outputs": [],
   "source": [
    "len(repo_tags)"
   ]
  },
  {
   "cell_type": "code",
   "execution_count": null,
   "id": "875af20c",
   "metadata": {},
   "outputs": [],
   "source": [
    "a_tags = repo_tags[0].find_all('a')"
   ]
  },
  {
   "cell_type": "code",
   "execution_count": null,
   "id": "ac0b9cc8",
   "metadata": {},
   "outputs": [],
   "source": [
    "a_tags[0].text.strip()"
   ]
  },
  {
   "cell_type": "code",
   "execution_count": null,
   "id": "9ea10404",
   "metadata": {},
   "outputs": [],
   "source": [
    "base"
   ]
  },
  {
   "cell_type": "code",
   "execution_count": null,
   "id": "60a1fa02",
   "metadata": {},
   "outputs": [],
   "source": [
    "repo_url= base + a_tags[1]['href']"
   ]
  },
  {
   "cell_type": "code",
   "execution_count": null,
   "id": "1ca50c15",
   "metadata": {},
   "outputs": [],
   "source": [
    "repo_url"
   ]
  },
  {
   "cell_type": "code",
   "execution_count": null,
   "id": "de78f09f",
   "metadata": {},
   "outputs": [],
   "source": [
    "star_tags= topic_doc.find_all('span', class_ = 'd-inline')"
   ]
  },
  {
   "cell_type": "code",
   "execution_count": null,
   "id": "8e61a28f",
   "metadata": {},
   "outputs": [],
   "source": [
    "len(star_tags)"
   ]
  },
  {
   "cell_type": "code",
   "execution_count": null,
   "id": "15960715",
   "metadata": {},
   "outputs": [],
   "source": [
    "stars = topic_doc.find_all('span', class_ = 'Counter js-social-count')"
   ]
  },
  {
   "cell_type": "code",
   "execution_count": null,
   "id": "9a7719e4",
   "metadata": {},
   "outputs": [],
   "source": [
    "stars[0].text.strip()"
   ]
  },
  {
   "cell_type": "code",
   "execution_count": null,
   "id": "3ca261d3",
   "metadata": {},
   "outputs": [],
   "source": [
    "def num(star_text):\n",
    "    star_text = star_text.strip()\n",
    "    if ''"
   ]
  },
  {
   "cell_type": "code",
   "execution_count": null,
   "id": "4462335e",
   "metadata": {},
   "outputs": [],
   "source": [
    "page_contents"
   ]
  },
  {
   "cell_type": "code",
   "execution_count": 2,
   "id": "6ee4307b",
   "metadata": {},
   "outputs": [
    {
     "data": {
      "text/plain": [
       "7"
      ]
     },
     "execution_count": 2,
     "metadata": {},
     "output_type": "execute_result"
    }
   ],
   "source": [
    "3+4"
   ]
  },
  {
   "cell_type": "code",
   "execution_count": 4,
   "id": "24d6df6f",
   "metadata": {},
   "outputs": [],
   "source": [
    "f= open('otile.txt', 'x')"
   ]
  },
  {
   "cell_type": "code",
   "execution_count": 5,
   "id": "f86eaf6e",
   "metadata": {},
   "outputs": [],
   "source": [
    "import os"
   ]
  }
 ],
 "metadata": {
  "kernelspec": {
   "display_name": "Python 3.9.12 ('base')",
   "language": "python",
   "name": "python3"
  },
  "language_info": {
   "codemirror_mode": {
    "name": "ipython",
    "version": 3
   },
   "file_extension": ".py",
   "mimetype": "text/x-python",
   "name": "python",
   "nbconvert_exporter": "python",
   "pygments_lexer": "ipython3",
   "version": "3.9.12"
  },
  "vscode": {
   "interpreter": {
    "hash": "a5d6c2be6262c78dadbf075e7ed7eef3fc1090c1044fdcff36d11e01ba01e819"
   }
  }
 },
 "nbformat": 4,
 "nbformat_minor": 5
}
